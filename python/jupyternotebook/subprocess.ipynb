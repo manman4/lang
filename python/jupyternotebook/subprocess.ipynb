{
 "cells": [
  {
   "cell_type": "code",
   "execution_count": 2,
   "id": "a1fb8c51",
   "metadata": {},
   "outputs": [],
   "source": [
    "# Pythonファイルを作成\n",
    "with open(\"hello.py\", \"w\") as f:\n",
    "    f.write('print(\"Hello from Python!\")\\n')\n",
    "\n",
    "# Rubyファイルを作成\n",
    "with open(\"hello.rb\", \"w\") as f:\n",
    "    f.write('puts \"Hello from Ruby!\"\\n')\n",
    "\n",
    "# シェルスクリプトを作成\n",
    "with open(\"hello.sh\", \"w\") as f:\n",
    "    f.write('#!/bin/bash\\necho \"Hello from Shell!\"\\n')\n",
    "\n",
    "# 実行権限を付与\n",
    "!chmod +x hello.sh\n"
   ]
  },
  {
   "cell_type": "code",
   "execution_count": 3,
   "id": "8b466d98",
   "metadata": {},
   "outputs": [
    {
     "name": "stdout",
     "output_type": "stream",
     "text": [
      "Hello from Python!\n",
      "Hello from Ruby!\n",
      "Hello from Shell!\n"
     ]
    },
    {
     "data": {
      "text/plain": [
       "CompletedProcess(args=['bash', 'hello.sh'], returncode=0)"
      ]
     },
     "execution_count": 3,
     "metadata": {},
     "output_type": "execute_result"
    }
   ],
   "source": [
    "# # それぞれ実行\n",
    "# print(\"=== Python ===\")\n",
    "# !python3 hello.py\n",
    "\n",
    "# print(\"=== Ruby ===\")\n",
    "# !ruby hello.rb\n",
    "\n",
    "# print(\"=== Shell ===\")\n",
    "# !./hello.sh\n",
    "\n",
    "import subprocess\n",
    "\n",
    "# Pythonファイル実行\n",
    "subprocess.run([\"python3\", \"hello.py\"])\n",
    "\n",
    "# Rubyファイル実行\n",
    "subprocess.run([\"ruby\", \"hello.rb\"])\n",
    "\n",
    "# シェルスクリプト実行\n",
    "subprocess.run([\"bash\", \"hello.sh\"])\n"
   ]
  }
 ],
 "metadata": {
  "kernelspec": {
   "display_name": "base",
   "language": "python",
   "name": "python3"
  },
  "language_info": {
   "codemirror_mode": {
    "name": "ipython",
    "version": 3
   },
   "file_extension": ".py",
   "mimetype": "text/x-python",
   "name": "python",
   "nbconvert_exporter": "python",
   "pygments_lexer": "ipython3",
   "version": "3.11.5"
  }
 },
 "nbformat": 4,
 "nbformat_minor": 5
}
