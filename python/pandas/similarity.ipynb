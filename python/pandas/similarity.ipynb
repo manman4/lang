{
 "cells": [
  {
   "cell_type": "code",
   "execution_count": 5,
   "metadata": {},
   "outputs": [],
   "source": [
    "import pandas as pd\n",
    "import numpy as np\n",
    "\n",
    "# CSVデータを読み込み\n",
    "file_path = \"./example/data.csv\"  # CSVファイルのパス\n",
    "df = pd.read_csv(file_path)"
   ]
  },
  {
   "cell_type": "code",
   "execution_count": 6,
   "metadata": {},
   "outputs": [
    {
     "name": "stdout",
     "output_type": "stream",
     "text": [
      "基準カラムに最も似たカラム: ['C', 'D', 'A']\n"
     ]
    }
   ],
   "source": [
    "from scipy.spatial.distance import cosine\n",
    "\n",
    "# 基準カラム\n",
    "reference_column = \"基準\"\n",
    "\n",
    "# 比較に不要なカラムを指定\n",
    "exclude_columns = [\"日付\"]\n",
    "\n",
    "# 比較対象のカラムを抽出\n",
    "comparison_columns = [col for col in df.columns if col not in exclude_columns + [reference_column]]\n",
    "\n",
    "# コサイン類似度を計算\n",
    "similarities = {}\n",
    "for col in comparison_columns:\n",
    "    # コサイン距離を類似度に変換 (1 - cosine distance)\n",
    "    similarity = 1 - cosine(df[reference_column], df[col])\n",
    "    similarities[col] = similarity\n",
    "\n",
    "# 類似度が高い順に並べて上位3つを選択\n",
    "similar_columns = sorted(similarities, key=similarities.get, reverse=True)[:3]\n",
    "\n",
    "print(\"基準カラムに最も似たカラム:\", similar_columns)"
   ]
  },
  {
   "cell_type": "code",
   "execution_count": 7,
   "metadata": {},
   "outputs": [
    {
     "name": "stdout",
     "output_type": "stream",
     "text": [
      "基準カラムに最も近いカラム: ['D', 'A', 'B']\n",
      "各カラムとのユークリッド距離: {'A': 1.0, 'B': 2.23606797749979, 'C': 66.74578638386096, 'D': 0.22360679774997877}\n"
     ]
    }
   ],
   "source": [
    "# 基準カラム\n",
    "reference_column = \"基準\"\n",
    "\n",
    "# 比較に不要なカラムを指定\n",
    "exclude_columns = [\"日付\"]\n",
    "\n",
    "# 比較対象のカラムを抽出\n",
    "comparison_columns = [col for col in df.columns if col not in exclude_columns + [reference_column]]\n",
    "\n",
    "# ユークリッド距離を計算\n",
    "distances = {}\n",
    "for col in comparison_columns:\n",
    "    # ユークリッド距離を計算\n",
    "    distance = np.linalg.norm(df[reference_column] - df[col])\n",
    "    distances[col] = distance\n",
    "\n",
    "# 距離が小さい順に並べて上位3つを選択\n",
    "closest_columns = sorted(distances, key=distances.get)[:3]\n",
    "\n",
    "print(\"基準カラムに最も近いカラム:\", closest_columns)\n",
    "print(\"各カラムとのユークリッド距離:\", distances)"
   ]
  },
  {
   "cell_type": "code",
   "execution_count": 8,
   "metadata": {},
   "outputs": [
    {
     "name": "stdout",
     "output_type": "stream",
     "text": [
      "基準カラムに最も近いカラム（マンハッタン距離）: ['D', 'A', 'B']\n",
      "各カラムとのマンハッタン距離: {'A': 1, 'B': 5, 'C': 135, 'D': 0.49999999999999956}\n"
     ]
    }
   ],
   "source": [
    "# 基準カラム\n",
    "reference_column = \"基準\"\n",
    "\n",
    "# 比較に不要なカラムを指定\n",
    "exclude_columns = [\"日付\"]\n",
    "\n",
    "# 比較対象のカラムを抽出\n",
    "comparison_columns = [col for col in df.columns if col not in exclude_columns + [reference_column]]\n",
    "\n",
    "# マンハッタン距離を計算\n",
    "distances = {}\n",
    "for col in comparison_columns:\n",
    "    distance = np.sum(np.abs(df[reference_column] - df[col]))\n",
    "    distances[col] = distance\n",
    "\n",
    "# 距離が小さい順に並べて上位3つを選択\n",
    "closest_columns = sorted(distances, key=distances.get)[:3]\n",
    "\n",
    "print(\"基準カラムに最も近いカラム（マンハッタン距離）:\", closest_columns)\n",
    "print(\"各カラムとのマンハッタン距離:\", distances)"
   ]
  },
  {
   "cell_type": "code",
   "execution_count": 10,
   "metadata": {},
   "outputs": [
    {
     "name": "stdout",
     "output_type": "stream",
     "text": [
      "距離と類似度の結果を output_distances.xlsx に保存しました。\n"
     ]
    }
   ],
   "source": [
    "output_file = \"output_distances.xlsx\"  # 出力先のエクセルファイル名\n",
    "\n",
    "# 基準カラム\n",
    "reference_column = \"基準\"\n",
    "\n",
    "# 比較に不要なカラムを指定\n",
    "exclude_columns = [\"日付\"]\n",
    "\n",
    "# 比較対象のカラムを抽出\n",
    "comparison_columns = [col for col in df.columns if col not in exclude_columns + [reference_column]]\n",
    "\n",
    "# 結果を格納する辞書\n",
    "results = {\n",
    "    \"カラム名\": [],\n",
    "    \"ユークリッド距離\": [],\n",
    "    \"マンハッタン距離\": [],\n",
    "    \"コサイン類似度\": []\n",
    "}\n",
    "\n",
    "# 各カラムとの距離・類似度を計算\n",
    "for col in comparison_columns:\n",
    "    # ユークリッド距離\n",
    "    euclidean_distance = np.linalg.norm(df[reference_column] - df[col])\n",
    "    # マンハッタン距離\n",
    "    manhattan_distance = np.sum(np.abs(df[reference_column] - df[col]))\n",
    "    # コサイン類似度\n",
    "    cosine_similarity = 1 - cosine(df[reference_column], df[col])\n",
    "    \n",
    "    # 結果を格納\n",
    "    results[\"カラム名\"].append(col)\n",
    "    results[\"ユークリッド距離\"].append(euclidean_distance)\n",
    "    results[\"マンハッタン距離\"].append(manhattan_distance)\n",
    "    results[\"コサイン類似度\"].append(cosine_similarity)\n",
    "\n",
    "# DataFrameに変換\n",
    "results_df = pd.DataFrame(results)\n",
    "\n",
    "# 結果をエクセルファイルに出力\n",
    "results_df.to_excel(output_file, index=False, sheet_name=\"距離と類似度\")\n",
    "\n",
    "print(f\"距離と類似度の結果を {output_file} に保存しました。\")"
   ]
  }
 ],
 "metadata": {
  "kernelspec": {
   "display_name": "base",
   "language": "python",
   "name": "python3"
  },
  "language_info": {
   "codemirror_mode": {
    "name": "ipython",
    "version": 3
   },
   "file_extension": ".py",
   "mimetype": "text/x-python",
   "name": "python",
   "nbconvert_exporter": "python",
   "pygments_lexer": "ipython3",
   "version": "3.11.5"
  },
  "orig_nbformat": 4
 },
 "nbformat": 4,
 "nbformat_minor": 2
}
