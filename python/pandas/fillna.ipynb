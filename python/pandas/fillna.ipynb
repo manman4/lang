{
 "cells": [
  {
   "cell_type": "code",
   "execution_count": 5,
   "metadata": {},
   "outputs": [],
   "source": [
    "import pandas as pd\n",
    "import numpy as np"
   ]
  },
  {
   "cell_type": "code",
   "execution_count": 6,
   "metadata": {},
   "outputs": [
    {
     "name": "stdout",
     "output_type": "stream",
     "text": [
      "     A    B\n",
      "0  1.0  NaN\n",
      "1  NaN  2.0\n",
      "2  3.0  NaN\n",
      "3  NaN  4.0\n",
      "4  5.0  NaN\n"
     ]
    }
   ],
   "source": [
    "# データフレームを作成\n",
    "data = {'A': [1, np.nan, 3, np.nan, 5],\n",
    "        'B': [np.nan, 2, np.nan, 4, np.nan]}\n",
    "\n",
    "df = pd.DataFrame(data)\n",
    "print(df)\n"
   ]
  },
  {
   "cell_type": "code",
   "execution_count": 7,
   "metadata": {},
   "outputs": [
    {
     "name": "stdout",
     "output_type": "stream",
     "text": [
      "     A    B\n",
      "0  1.0  NaN\n",
      "1  1.0  2.0\n",
      "2  3.0  NaN\n",
      "3  1.0  4.0\n",
      "4  5.0  4.0\n"
     ]
    }
   ],
   "source": [
    "# 特定の行（例えば2行目）を除外して、その後で埋める\n",
    "df_exclude = df.loc[2].copy()  # 2行目を保存\n",
    "df.drop(2, inplace=True)  # 2行目を除外\n",
    "\n",
    "# NaNを直近のデータで埋める（ここでは前方埋め）\n",
    "df_filled = df.fillna(method='ffill')\n",
    "\n",
    "# 2行目を元に戻す\n",
    "df_filled.loc[2] = df_exclude\n",
    "\n",
    "# 結果のデータフレーム\n",
    "df_filled = df_filled.sort_index()  # インデックス順に戻す\n",
    "print(df_filled)"
   ]
  },
  {
   "cell_type": "code",
   "execution_count": 8,
   "metadata": {},
   "outputs": [
    {
     "name": "stdout",
     "output_type": "stream",
     "text": [
      "     A    B\n",
      "0  1.0  2.0\n",
      "1  1.0  4.0\n",
      "2  5.0  4.0\n"
     ]
    }
   ],
   "source": [
    "# B列がNaNの行を削除\n",
    "df_1 = df_filled.dropna(subset=['B'])\n",
    "df_1 = df_1.reset_index(drop=True)\n",
    "print(df_1)"
   ]
  }
 ],
 "metadata": {
  "kernelspec": {
   "display_name": "Python 3.8.5 ('base')",
   "language": "python",
   "name": "python3"
  },
  "language_info": {
   "codemirror_mode": {
    "name": "ipython",
    "version": 3
   },
   "file_extension": ".py",
   "mimetype": "text/x-python",
   "name": "python",
   "nbconvert_exporter": "python",
   "pygments_lexer": "ipython3",
   "version": "3.11.5"
  },
  "orig_nbformat": 4,
  "vscode": {
   "interpreter": {
    "hash": "8ad9b3c300ef8b98a084aa4c6594714fe115163faf6d663e5ab47cea338ac9fd"
   }
  }
 },
 "nbformat": 4,
 "nbformat_minor": 2
}
