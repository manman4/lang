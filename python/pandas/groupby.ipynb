{
 "cells": [
  {
   "cell_type": "code",
   "execution_count": 1,
   "metadata": {},
   "outputs": [
    {
     "name": "stdout",
     "output_type": "stream",
     "text": [
      "Group 'A':\n",
      "  Category  Value\n",
      "0        A     10\n",
      "2        A     30\n",
      "5        A     60\n",
      "\n",
      "Group 'B':\n",
      "  Category  Value\n",
      "1        B     20\n",
      "4        B     50\n",
      "\n",
      "Group 'C':\n",
      "  Category  Value\n",
      "3        C     40\n",
      "6        C     70\n",
      "\n",
      "Original DataFrame after modification:\n",
      "  Category  Value\n",
      "0        A    999\n",
      "1        B     20\n",
      "2        A    999\n",
      "3        C     40\n",
      "4        B     50\n",
      "5        A    999\n",
      "6        C     70\n",
      "\n",
      "Grouped DataFrame 'A' after original modification:\n",
      "  Category  Value\n",
      "0        A     10\n",
      "2        A     30\n",
      "5        A     60\n"
     ]
    }
   ],
   "source": [
    "import pandas as pd\n",
    "\n",
    "# サンプルデータフレーム\n",
    "data = {\n",
    "    'Category': ['A', 'B', 'A', 'C', 'B', 'A', 'C'],\n",
    "    'Value': [10, 20, 30, 40, 50, 60, 70]\n",
    "}\n",
    "df = pd.DataFrame(data)\n",
    "\n",
    "# 'Category' 列の値ごとに分割し、コピーを作成\n",
    "grouped_dfs = {key: group.copy() for key, group in df.groupby('Category')}\n",
    "\n",
    "# 結果を表示\n",
    "for key, group in grouped_dfs.items():\n",
    "    print(f\"Group '{key}':\")\n",
    "    print(group)\n",
    "    print()\n",
    "\n",
    "# コピーの確認: 元の DataFrame を変更しても分割したものは影響を受けない\n",
    "df.loc[df['Category'] == 'A', 'Value'] = 999\n",
    "\n",
    "print(\"Original DataFrame after modification:\")\n",
    "print(df)\n",
    "print(\"\\nGrouped DataFrame 'A' after original modification:\")\n",
    "print(grouped_dfs['A'])\n"
   ]
  }
 ],
 "metadata": {
  "kernelspec": {
   "display_name": "base",
   "language": "python",
   "name": "python3"
  },
  "language_info": {
   "codemirror_mode": {
    "name": "ipython",
    "version": 3
   },
   "file_extension": ".py",
   "mimetype": "text/x-python",
   "name": "python",
   "nbconvert_exporter": "python",
   "pygments_lexer": "ipython3",
   "version": "3.11.5"
  },
  "orig_nbformat": 4
 },
 "nbformat": 4,
 "nbformat_minor": 2
}
