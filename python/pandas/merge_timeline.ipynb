{
 "cells": [
  {
   "cell_type": "code",
   "execution_count": 5,
   "metadata": {},
   "outputs": [
    {
     "name": "stdout",
     "output_type": "stream",
     "text": [
      "         date  value\n",
      "0  2024-12-30    100\n",
      "1  2024-12-29     90\n",
      "--------------------\n",
      "         date  value\n",
      "0  2024-12-30    110\n",
      "1  2024-12-28     80\n",
      "--------------------\n",
      "         date  value\n",
      "0  2024-12-30    110\n",
      "1  2024-12-29     90\n",
      "1  2024-12-28     80\n"
     ]
    }
   ],
   "source": [
    "import pandas as pd\n",
    "\n",
    "# CSVファイルを読み込む\n",
    "csv1 = pd.read_csv('./example/timeline_1.csv')\n",
    "csv2 = pd.read_csv('./example/timeline_2.csv')\n",
    "\n",
    "print(csv1)\n",
    "print(\"--------------------\")\n",
    "print(csv2)\n",
    "print(\"--------------------\")\n",
    "\n",
    "# 日付をキーとしてマージ\n",
    "# 同じ日付がある場合はcsv2の値を優先\n",
    "merged = pd.concat([csv1, csv2]).drop_duplicates(subset='date', keep='last')\n",
    "\n",
    "# 新しい日付順に並び替え\n",
    "merged = merged.sort_values(by='date', ascending=False)\n",
    "\n",
    "# 結果を保存\n",
    "merged.to_csv('merged_timeline.csv', index=False)\n",
    "\n",
    "print(merged)\n"
   ]
  }
 ],
 "metadata": {
  "kernelspec": {
   "display_name": "base",
   "language": "python",
   "name": "python3"
  },
  "language_info": {
   "codemirror_mode": {
    "name": "ipython",
    "version": 3
   },
   "file_extension": ".py",
   "mimetype": "text/x-python",
   "name": "python",
   "nbconvert_exporter": "python",
   "pygments_lexer": "ipython3",
   "version": "3.11.5"
  },
  "orig_nbformat": 4
 },
 "nbformat": 4,
 "nbformat_minor": 2
}
