{
 "cells": [
  {
   "cell_type": "markdown",
   "metadata": {},
   "source": [
    "## Unnamed カラムが生成される場合に除く"
   ]
  },
  {
   "cell_type": "code",
   "execution_count": 2,
   "metadata": {},
   "outputs": [
    {
     "name": "stdout",
     "output_type": "stream",
     "text": [
      "   Unnamed: 0  Unnamed: 1  Data\n",
      "0           1           4     7\n",
      "1           2           5     8\n",
      "2           3           6     9\n",
      "   Data\n",
      "0     7\n",
      "1     8\n",
      "2     9\n"
     ]
    }
   ],
   "source": [
    "import pandas as pd\n",
    "\n",
    "df = pd.DataFrame({\n",
    "    \"Unnamed: 0\": [1, 2, 3],\n",
    "    \"Unnamed: 1\": [4, 5, 6],\n",
    "    \"Data\": [7, 8, 9]\n",
    "})\n",
    "\n",
    "print(df)\n",
    "\n",
    "# \"Unnamed\" で始まるカラムを削除\n",
    "df = df.loc[:, ~df.columns.str.contains(\"^Unnamed\")]\n",
    "print(df)"
   ]
  }
 ],
 "metadata": {
  "kernelspec": {
   "display_name": "base",
   "language": "python",
   "name": "python3"
  },
  "language_info": {
   "codemirror_mode": {
    "name": "ipython",
    "version": 3
   },
   "file_extension": ".py",
   "mimetype": "text/x-python",
   "name": "python",
   "nbconvert_exporter": "python",
   "pygments_lexer": "ipython3",
   "version": "3.11.5"
  },
  "orig_nbformat": 4
 },
 "nbformat": 4,
 "nbformat_minor": 2
}
