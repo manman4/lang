{
 "cells": [
  {
   "cell_type": "markdown",
   "metadata": {},
   "source": [
    "# Pandas groupby 集計 高速化\n",
    "\n",
    "[Pandas groupby 集計を10倍高速化する3つの基本テクニック](https://www.salesanalytics.co.jp/datascience/datascience268/)\n"
   ]
  },
  {
   "cell_type": "code",
   "execution_count": 1,
   "metadata": {},
   "outputs": [],
   "source": [
    "import pandas as pd"
   ]
  },
  {
   "cell_type": "code",
   "execution_count": 2,
   "metadata": {},
   "outputs": [
    {
     "name": "stdout",
     "output_type": "stream",
     "text": [
      "  region channel  sales\n",
      "0     関東      店舗    100\n",
      "1     関東   オンライン    200\n",
      "2     関西      店舗    150\n",
      "3     関西   オンライン     80\n",
      "4     関西      店舗    120\n",
      "5     中部   オンライン     90\n"
     ]
    }
   ],
   "source": [
    "import pandas as pd\n",
    "# まずは6行だけの小さなデータで試してみます\n",
    "df_sample = pd.DataFrame({\n",
    "    'region':  ['関東', '関東', '関西', '関西', '関西', '中部'],\n",
    "    'channel': ['店舗', 'オンライン', '店舗', 'オンライン', '店舗', 'オンライン'],\n",
    "    'sales':   [100, 200, 150, 80, 120, 90]\n",
    "})\n",
    "# データの中身を確認\n",
    "print(df_sample)\n",
    " "
   ]
  },
  {
   "cell_type": "code",
   "execution_count": 3,
   "metadata": {},
   "outputs": [
    {
     "name": "stdout",
     "output_type": "stream",
     "text": [
      "region\n",
      "中部     90\n",
      "関東    300\n",
      "関西    350\n",
      "Name: sales, dtype: int64\n"
     ]
    }
   ],
   "source": [
    "# 地域ごとの売上合計を計算\n",
    "result = df_sample.groupby('region')['sales'].sum()\n",
    "print(result)"
   ]
  },
  {
   "cell_type": "markdown",
   "metadata": {},
   "source": [
    "## 複数の条件でグループ化する"
   ]
  },
  {
   "cell_type": "code",
   "execution_count": 4,
   "metadata": {},
   "outputs": [
    {
     "name": "stdout",
     "output_type": "stream",
     "text": [
      "  region channel  sales\n",
      "0     中部   オンライン   90.0\n",
      "1     関東   オンライン  200.0\n",
      "2     関東      店舗  100.0\n",
      "3     関西   オンライン   80.0\n",
      "4     関西      店舗  135.0\n"
     ]
    }
   ],
   "source": [
    "# 地域×チャネル別の平均売上を計算\n",
    "# as_index=Falseを付けると、結果が見やすい表形式になります\n",
    "result = df_sample.groupby(['region', 'channel'], as_index=False)['sales'].mean()\n",
    "print(result)"
   ]
  },
  {
   "cell_type": "markdown",
   "metadata": {},
   "source": [
    "## 高速化"
   ]
  },
  {
   "cell_type": "markdown",
   "metadata": {},
   "source": [
    "### 検証用データの準備"
   ]
  },
  {
   "cell_type": "code",
   "execution_count": 5,
   "metadata": {},
   "outputs": [
    {
     "name": "stdout",
     "output_type": "stream",
     "text": [
      "データのサイズ: 1,000,000行\n",
      "  region channel       sales\n",
      "0     東北   オンライン  497092.948\n",
      "1     九州   パートナー  482762.557\n",
      "2     中部      店舗  497356.177\n",
      "3     九州      店舗  494995.646\n",
      "4     九州      電話  490321.006\n"
     ]
    }
   ],
   "source": [
    "import numpy as np\n",
    "import pandas as pd\n",
    "import time\n",
    "# 乱数のシードを固定\n",
    "np.random.seed(42)\n",
    "# 100万行のデータを生成\n",
    "N = 1_000_000  # アンダースコアで区切ると読みやすい\n",
    "regions = [\"関東\", \"関西\", \"中部\", \"東北\", \"九州\"]\n",
    "channels = [\"オンライン\", \"店舗\", \"パートナー\", \"電話\"]\n",
    "df = pd.DataFrame({\n",
    "    \"region\": np.random.choice(regions, size=N),    # 地域をランダムに選択\n",
    "    \"channel\": np.random.choice(channels, size=N),   # チャネルをランダムに選択\n",
    "    \"sales\": np.random.normal(500000, 10000, size=N).round(3)  # 平均500000、標準偏差10000の正規分布\n",
    "})\n",
    "print(f\"データのサイズ: {len(df):,}行\")  # カンマ区切りで表示\n",
    "print(df.head())  # 最初の5行を確認"
   ]
  },
  {
   "cell_type": "markdown",
   "metadata": {},
   "source": [
    "### 最適化前の処理速度を測定"
   ]
  },
  {
   "cell_type": "code",
   "execution_count": 6,
   "metadata": {},
   "outputs": [
    {
     "name": "stdout",
     "output_type": "stream",
     "text": [
      "現在のデータ型:\n",
      "region      object\n",
      "channel     object\n",
      "sales      float64\n",
      "dtype: object\n",
      "\n",
      "メモリ使用量: 174.52 MB\n",
      "\n",
      "処理時間（最適化前）: 0.120 秒\n"
     ]
    }
   ],
   "source": [
    "# データ型を確認（regionとchannelがobject型になっているはず）\n",
    "print(\"現在のデータ型:\")\n",
    "print(df.dtypes)\n",
    "print()\n",
    "# メモリ使用量を確認\n",
    "memory_mb = df.memory_usage(deep=True).sum() / 1024**2\n",
    "print(f\"メモリ使用量: {memory_mb:.2f} MB\")\n",
    "print()\n",
    "# 速度を表示\n",
    "start_time = time.perf_counter()  # 正確な時間測定用のタイマーを開始\n",
    "result_before = df.groupby([\"region\", \"channel\"])['sales'].agg(['sum', 'mean', 'count'])\n",
    "time_before = time.perf_counter() - start_time\n",
    "print(f\"処理時間（最適化前）: {time_before:.3f} 秒\")"
   ]
  },
  {
   "cell_type": "markdown",
   "metadata": {},
   "source": [
    "### データ型を最適化して再測定"
   ]
  },
  {
   "cell_type": "code",
   "execution_count": 7,
   "metadata": {},
   "outputs": [
    {
     "name": "stdout",
     "output_type": "stream",
     "text": [
      "最適化後のデータ型:\n",
      "region     category\n",
      "channel    category\n",
      "sales       float64\n",
      "dtype: object\n",
      "\n",
      "メモリ使用量: 9.54 MB\n",
      "メモリ削減率: 94.5%\n",
      "\n",
      "処理時間（最適化後）: 0.033 秒\n",
      "高速化率: 3.6倍\n"
     ]
    }
   ],
   "source": [
    "# データをコピー（元のデータは残しておく）\n",
    "df_optimized = df.copy()\n",
    "# カテゴリ型に変換\n",
    "df_optimized[\"region\"] = df_optimized[\"region\"].astype(\"category\")\n",
    "df_optimized[\"channel\"] = df_optimized[\"channel\"].astype(\"category\")\n",
    "print(\"最適化後のデータ型:\")\n",
    "print(df_optimized.dtypes)\n",
    "print()\n",
    "# メモリ使用量を再確認\n",
    "memory_mb_optimized = df_optimized.memory_usage(deep=True).sum() / 1024**2\n",
    "print(f\"メモリ使用量: {memory_mb_optimized:.2f} MB\")\n",
    "print(f\"メモリ削減率: {(1 - memory_mb_optimized/memory_mb)*100:.1f}%\")\n",
    "print()\n",
    "# 最適化された処理の実行\n",
    "start_time = time.perf_counter()\n",
    "result_after = df_optimized.groupby(\n",
    "    [\"region\", \"channel\"], \n",
    "    observed=True,  # 実際に存在するグループだけを処理\n",
    "    sort=False      # 並べ替えをスキップ\n",
    ")['sales'].agg(['sum', 'mean', 'count'])\n",
    "# 速度を表示\n",
    "time_after = time.perf_counter() - start_time\n",
    "print(f\"処理時間（最適化後）: {time_after:.3f} 秒\")\n",
    "print(f\"高速化率: {time_before / time_after:.1f}倍\")"
   ]
  }
 ],
 "metadata": {
  "kernelspec": {
   "display_name": "base",
   "language": "python",
   "name": "python3"
  },
  "language_info": {
   "codemirror_mode": {
    "name": "ipython",
    "version": 3
   },
   "file_extension": ".py",
   "mimetype": "text/x-python",
   "name": "python",
   "nbconvert_exporter": "python",
   "pygments_lexer": "ipython3",
   "version": "3.11.5"
  },
  "orig_nbformat": 4
 },
 "nbformat": 4,
 "nbformat_minor": 2
}
