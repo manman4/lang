{
 "cells": [
  {
   "cell_type": "code",
   "execution_count": 1,
   "metadata": {},
   "outputs": [
    {
     "name": "stdout",
     "output_type": "stream",
     "text": [
      "処理が完了し、結果が '一致数結果.csv' に保存されました。\n"
     ]
    }
   ],
   "source": [
    "import pandas as pd\n",
    "\n",
    "# サンプルデータフレームの作成\n",
    "data = {\n",
    "    \"基準カラム\": [2.5, 4, 10, 3, 7],\n",
    "    \"カラム1\": [2.6, 4.5, 10, 2.9, 7.1],\n",
    "    \"カラム2\": [1.5, 3.2, 8.5, 3.8, 6.9],\n",
    "    \"カラム3\": [3.1, 5.5, 9, 2.5, 8.2],\n",
    "}\n",
    "df = pd.DataFrame(data)\n",
    "\n",
    "# 診断区分を計算する関数\n",
    "def get_category(value):\n",
    "    if 1 <= value < 3:\n",
    "        return 1\n",
    "    elif 3 <= value < 8:\n",
    "        return 2\n",
    "    elif value >= 8:\n",
    "        return 3\n",
    "    return None\n",
    "\n",
    "# 基準カラムの診断区分\n",
    "df['基準区分'] = df['基準カラム'].apply(get_category)\n",
    "\n",
    "# 各カラムの診断区分と一致するセルの数をカウント\n",
    "result = {}\n",
    "for col in df.columns:\n",
    "    if col == \"基準カラム\" or col == \"基準区分\":\n",
    "        continue\n",
    "    df[f\"{col}_区分\"] = df[col].apply(get_category)\n",
    "    result[col] = (df[f\"{col}_区分\"] == df[\"基準区分\"]).sum()\n",
    "\n",
    "# 結果をデータフレーム化\n",
    "result_df = pd.DataFrame(list(result.items()), columns=[\"カラム\", \"一致数\"])\n",
    "\n",
    "# CSVに書き出し\n",
    "result_df.to_csv(\"一致数結果.csv\", index=False, encoding=\"utf-8-sig\")\n",
    "\n",
    "print(\"処理が完了し、結果が '一致数結果.csv' に保存されました。\")\n"
   ]
  }
 ],
 "metadata": {
  "kernelspec": {
   "display_name": "base",
   "language": "python",
   "name": "python3"
  },
  "language_info": {
   "codemirror_mode": {
    "name": "ipython",
    "version": 3
   },
   "file_extension": ".py",
   "mimetype": "text/x-python",
   "name": "python",
   "nbconvert_exporter": "python",
   "pygments_lexer": "ipython3",
   "version": "3.11.5"
  },
  "orig_nbformat": 4
 },
 "nbformat": 4,
 "nbformat_minor": 2
}
