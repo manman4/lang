{
 "cells": [
  {
   "cell_type": "code",
   "execution_count": 2,
   "metadata": {},
   "outputs": [
    {
     "data": {
      "text/html": [
       "<div><style>\n",
       ".dataframe > thead > tr,\n",
       ".dataframe > tbody > tr {\n",
       "  text-align: right;\n",
       "  white-space: pre-wrap;\n",
       "}\n",
       "</style>\n",
       "<small>shape: (2, 4)</small><table border=\"1\" class=\"dataframe\"><thead><tr><th>index</th><th>name</th><th>value</th><th></th></tr><tr><td>i64</td><td>str</td><td>i64</td><td>str</td></tr></thead><tbody><tr><td>1</td><td>&quot;Taro&quot;</td><td>100</td><td>null</td></tr><tr><td>2</td><td>&quot;Hanako&quot;</td><td>200</td><td>null</td></tr></tbody></table></div>"
      ],
      "text/plain": [
       "shape: (2, 4)\n",
       "┌───────┬────────┬───────┬──────┐\n",
       "│ index ┆ name   ┆ value ┆      │\n",
       "│ ---   ┆ ---    ┆ ---   ┆ ---  │\n",
       "│ i64   ┆ str    ┆ i64   ┆ str  │\n",
       "╞═══════╪════════╪═══════╪══════╡\n",
       "│ 1     ┆ Taro   ┆ 100   ┆ null │\n",
       "│ 2     ┆ Hanako ┆ 200   ┆ null │\n",
       "└───────┴────────┴───────┴──────┘"
      ]
     },
     "execution_count": 2,
     "metadata": {},
     "output_type": "execute_result"
    }
   ],
   "source": [
    "import polars as pl\n",
    "\n",
    "df = pl.read_csv(\"./example/data.csv\")\n",
    "df"
   ]
  }
 ],
 "metadata": {
  "kernelspec": {
   "display_name": "base",
   "language": "python",
   "name": "python3"
  },
  "language_info": {
   "codemirror_mode": {
    "name": "ipython",
    "version": 3
   },
   "file_extension": ".py",
   "mimetype": "text/x-python",
   "name": "python",
   "nbconvert_exporter": "python",
   "pygments_lexer": "ipython3",
   "version": "3.11.5"
  }
 },
 "nbformat": 4,
 "nbformat_minor": 2
}
