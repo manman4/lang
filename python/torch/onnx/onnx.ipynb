{
 "cells": [
  {
   "cell_type": "code",
   "execution_count": 1,
   "metadata": {},
   "outputs": [],
   "source": [
    "import torch\n",
    "import torch.nn as nn\n",
    "import torch.onnx\n",
    "import numpy as np\n",
    "import onnxruntime as ort"
   ]
  },
  {
   "cell_type": "code",
   "execution_count": 3,
   "metadata": {},
   "outputs": [
    {
     "name": "stdout",
     "output_type": "stream",
     "text": [
      "PyTorch推論結果: tensor([[ 1.0414, -0.8350, -0.3696]], grad_fn=<AddmmBackward0>)\n",
      "ONNX形式で保存しました: simple_model.onnx\n",
      "ONNX推論結果: [[ 1.0413516  -0.83499575 -0.36956984]]\n"
     ]
    }
   ],
   "source": [
    "# 1. モデル作成\n",
    "class SimpleModel(nn.Module):\n",
    "    def __init__(self):\n",
    "        super(SimpleModel, self).__init__()\n",
    "        self.fc = nn.Linear(4, 3)  # 入力4次元、出力3次元\n",
    "\n",
    "    def forward(self, x):\n",
    "        return self.fc(x)\n",
    "\n",
    "model = SimpleModel()\n",
    "model.eval()  # 推論モードに設定\n",
    "\n",
    "# ダミーデータで確認\n",
    "dummy_input = torch.randn(1, 4)  # バッチサイズ1, 入力次元4\n",
    "print(\"PyTorch推論結果:\", model(dummy_input))\n",
    "\n",
    "# 2. ONNX形式に変換\n",
    "onnx_path = \"simple_model.onnx\"\n",
    "torch.onnx.export(\n",
    "    model,\n",
    "    dummy_input,\n",
    "    onnx_path,\n",
    "    export_params=True,\n",
    "    opset_version=11,\n",
    "    input_names=[\"input\"],\n",
    "    output_names=[\"output\"]\n",
    ")\n",
    "print(f\"ONNX形式で保存しました: {onnx_path}\")\n",
    "\n",
    "# 3. ONNXで推論\n",
    "# ONNX Runtimeセッションを作成\n",
    "ort_session = ort.InferenceSession(onnx_path)\n",
    "\n",
    "# 推論データ準備\n",
    "onnx_input = dummy_input.numpy()\n",
    "onnx_outputs = ort_session.run(\n",
    "    None, {\"input\": onnx_input}\n",
    ")\n",
    "\n",
    "print(\"ONNX推論結果:\", onnx_outputs[0])\n"
   ]
  }
 ],
 "metadata": {
  "kernelspec": {
   "display_name": "base",
   "language": "python",
   "name": "python3"
  },
  "language_info": {
   "codemirror_mode": {
    "name": "ipython",
    "version": 3
   },
   "file_extension": ".py",
   "mimetype": "text/x-python",
   "name": "python",
   "nbconvert_exporter": "python",
   "pygments_lexer": "ipython3",
   "version": "3.11.5"
  },
  "orig_nbformat": 4
 },
 "nbformat": 4,
 "nbformat_minor": 2
}
