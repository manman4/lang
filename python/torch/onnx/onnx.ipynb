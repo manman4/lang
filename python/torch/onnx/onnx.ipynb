{
 "cells": [
  {
   "cell_type": "code",
   "execution_count": 14,
   "metadata": {},
   "outputs": [],
   "source": [
    "import torch\n",
    "import torch.nn as nn\n",
    "import torch.optim as optim\n",
    "import numpy as np\n",
    "import onnxruntime as ort"
   ]
  },
  {
   "cell_type": "code",
   "execution_count": 15,
   "metadata": {},
   "outputs": [],
   "source": [
    "# 1. 線形回帰モデルの定義\n",
    "class LinearRegressionModel(nn.Module):\n",
    "    def __init__(self, input_dim, output_dim):\n",
    "        super(LinearRegressionModel, self).__init__()\n",
    "        self.linear = nn.Linear(input_dim, output_dim)  # 線形層\n",
    "\n",
    "    def forward(self, x):\n",
    "        return self.linear(x)\n",
    "\n",
    "# データセットを生成 (y = 2.0 * x + 3.0 + noise)\n",
    "torch.manual_seed(42)\n",
    "X = torch.rand(100, 1) * 10  # 入力データ (100個のサンプル、1次元)\n",
    "Y = 2.0 * X + 3.0 + torch.randn(100, 1) * 2  # 出力データ (ノイズ付き)"
   ]
  },
  {
   "cell_type": "code",
   "execution_count": 16,
   "metadata": {},
   "outputs": [],
   "source": [
    "# 2. モデルのインスタンス化\n",
    "input_dim = 1\n",
    "output_dim = 1\n",
    "model = LinearRegressionModel(input_dim, output_dim)\n",
    "\n",
    "# 損失関数と最適化関数\n",
    "criterion = nn.MSELoss()\n",
    "optimizer = optim.SGD(model.parameters(), lr=0.01)"
   ]
  },
  {
   "cell_type": "code",
   "execution_count": 17,
   "metadata": {},
   "outputs": [
    {
     "name": "stdout",
     "output_type": "stream",
     "text": [
      "Epoch [100/1000], Loss: 3.7373\n",
      "Epoch [200/1000], Loss: 3.0689\n",
      "Epoch [300/1000], Loss: 2.8125\n",
      "Epoch [400/1000], Loss: 2.7140\n",
      "Epoch [500/1000], Loss: 2.6763\n",
      "Epoch [600/1000], Loss: 2.6618\n",
      "Epoch [700/1000], Loss: 2.6562\n",
      "Epoch [800/1000], Loss: 2.6541\n",
      "Epoch [900/1000], Loss: 2.6533\n",
      "Epoch [1000/1000], Loss: 2.6529\n",
      "学習した重み: 1.9118\n",
      "学習したバイアス: 3.4333\n"
     ]
    }
   ],
   "source": [
    "# 3. モデルのトレーニング\n",
    "num_epochs = 1000\n",
    "for epoch in range(num_epochs):\n",
    "    model.train()\n",
    "\n",
    "    # 順伝播\n",
    "    outputs = model(X)\n",
    "    loss = criterion(outputs, Y)\n",
    "\n",
    "    # 逆伝播とパラメータ更新\n",
    "    optimizer.zero_grad()\n",
    "    loss.backward()\n",
    "    optimizer.step()\n",
    "\n",
    "    if (epoch + 1) % 100 == 0:\n",
    "        print(f'Epoch [{epoch+1}/{num_epochs}], Loss: {loss.item():.4f}')\n",
    "\n",
    "# トレーニング後のパラメータ\n",
    "print(f'学習した重み: {model.linear.weight.item():.4f}')\n",
    "print(f'学習したバイアス: {model.linear.bias.item():.4f}')\n"
   ]
  },
  {
   "cell_type": "code",
   "execution_count": 18,
   "metadata": {},
   "outputs": [
    {
     "name": "stdout",
     "output_type": "stream",
     "text": [
      "ONNX形式で保存しました: linear_regression.onnx\n"
     ]
    }
   ],
   "source": [
    "# 4. ONNX形式に変換 (バッチサイズを柔軟にする)\n",
    "torch.onnx.export(\n",
    "    model,\n",
    "    dummy_input,\n",
    "    onnx_path,\n",
    "    export_params=True,\n",
    "    opset_version=11,\n",
    "    input_names=[\"input\"],\n",
    "    output_names=[\"output\"],\n",
    "    dynamic_axes={\"input\": {0: \"batch_size\"}, \"output\": {0: \"batch_size\"}}\n",
    ")\n",
    "print(f\"ONNX形式で保存しました: {onnx_path}\")\n"
   ]
  },
  {
   "cell_type": "code",
   "execution_count": 19,
   "metadata": {},
   "outputs": [
    {
     "name": "stdout",
     "output_type": "stream",
     "text": [
      "ONNX推論結果:\n",
      "入力: 4.50, 出力: 12.04\n",
      "入力: 7.00, 出力: 16.82\n",
      "入力: 2.50, 出力: 8.21\n"
     ]
    }
   ],
   "source": [
    "# 5. ONNXで推論\n",
    "ort_session = ort.InferenceSession(onnx_path)\n",
    "\n",
    "# テストデータで推論\n",
    "test_input = torch.tensor([[4.5], [7.0], [2.5]])  # テスト用入力\n",
    "onnx_input = test_input.numpy().astype(np.float32)\n",
    "onnx_outputs = ort_session.run(None, {\"input\": onnx_input})\n",
    "\n",
    "print(\"ONNX推論結果:\")\n",
    "for inp, outp in zip(test_input, onnx_outputs[0]):\n",
    "    print(f\"入力: {inp.item():.2f}, 出力: {outp[0]:.2f}\")"
   ]
  }
 ],
 "metadata": {
  "kernelspec": {
   "display_name": "base",
   "language": "python",
   "name": "python3"
  },
  "language_info": {
   "codemirror_mode": {
    "name": "ipython",
    "version": 3
   },
   "file_extension": ".py",
   "mimetype": "text/x-python",
   "name": "python",
   "nbconvert_exporter": "python",
   "pygments_lexer": "ipython3",
   "version": "3.11.5"
  },
  "orig_nbformat": 4
 },
 "nbformat": 4,
 "nbformat_minor": 2
}
