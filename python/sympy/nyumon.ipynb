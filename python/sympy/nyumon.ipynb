{
 "cells": [
  {
   "cell_type": "markdown",
   "metadata": {},
   "source": [
    "# numpyとの比較"
   ]
  },
  {
   "cell_type": "code",
   "execution_count": 3,
   "metadata": {},
   "outputs": [
    {
     "name": "stdout",
     "output_type": "stream",
     "text": [
      "scipy.polyval result: 2\n",
      "sympy result: 2\n"
     ]
    }
   ],
   "source": [
    "x_value = 3\n",
    "\n",
    "\n",
    "# scipyを使った多項式の計算\n",
    "import numpy as np\n",
    "# from scipy import polyval, polyfit\n",
    "coefficients = [1, -3, 2]  # 1*x^2 - 3*x + 2\n",
    "# result = polyval(coefficients, x_value)\n",
    "result = np.polyval(coefficients, x_value)\n",
    "print(f'scipy.polyval result: {result}')\n",
    "\n",
    "\n",
    "# sympyを使った多項式の計算\n",
    "from sympy import symbols, Poly\n",
    "\n",
    "x = symbols('x')\n",
    "polynomial = Poly(1*x**2 - 3*x + 2, x)\n",
    "\n",
    "result_symbolic = polynomial.subs(x, x_value)\n",
    "print(f'sympy result: {result_symbolic}')"
   ]
  },
  {
   "cell_type": "markdown",
   "metadata": {},
   "source": [
    "# 入門"
   ]
  },
  {
   "cell_type": "code",
   "execution_count": 10,
   "metadata": {},
   "outputs": [],
   "source": [
    "x = symbols('x')\n",
    "y = symbols('y')"
   ]
  },
  {
   "cell_type": "code",
   "execution_count": 20,
   "metadata": {},
   "outputs": [
    {
     "name": "stdout",
     "output_type": "stream",
     "text": [
      "x**3/6 + x**2 + 1\n",
      "2*x*y + 4\n",
      "(x + y)**2\n",
      "x**2 + 2*x*y + y**2\n",
      "(x - y)*(x + y)\n"
     ]
    }
   ],
   "source": [
    "from sympy import expand, factor\n",
    "\n",
    "\n",
    "# 次数が高い項になる\n",
    "expr_1 = 1 + x ** 3 / 6 + x ** 2\n",
    "print(expr_1)\n",
    "\n",
    "# 同類項はまとめられる\n",
    "expr_2 = x * y + 1 + x * y + 3\n",
    "print(expr_2)\n",
    "\n",
    "expr_3 = (x + y) ** 2\n",
    "print(expr_3)\n",
    "print(expand(expr_3))\n",
    "\n",
    "expr_4 = x ** 2 - y ** 2\n",
    "print(factor(expr_4))\n"
   ]
  },
  {
   "cell_type": "code",
   "execution_count": 21,
   "metadata": {},
   "outputs": [
    {
     "name": "stdout",
     "output_type": "stream",
     "text": [
      " 3         \n",
      "x     2    \n",
      "── + x  + 1\n",
      "6          \n"
     ]
    }
   ],
   "source": [
    "from sympy import pprint\n",
    "\n",
    "pprint(expr_1)"
   ]
  },
  {
   "cell_type": "markdown",
   "metadata": {},
   "source": [
    "## 代入\n"
   ]
  },
  {
   "cell_type": "code",
   "execution_count": 23,
   "metadata": {},
   "outputs": [
    {
     "name": "stdout",
     "output_type": "stream",
     "text": [
      "73\n",
      "12*y + 4\n"
     ]
    }
   ],
   "source": [
    "print(expr_1.subs({x: 6}))\n",
    "print(expr_2.subs({x: 6}))"
   ]
  },
  {
   "cell_type": "code",
   "execution_count": 26,
   "metadata": {},
   "outputs": [
    {
     "name": "stdout",
     "output_type": "stream",
     "text": [
      "2*x*y + 4\n",
      "2*y*(y + 5) + 4\n",
      "2*y**2 + 10*y + 4\n"
     ]
    }
   ],
   "source": [
    "print(expr_2)\n",
    "print(expr_2.subs({x: y + 5}))\n",
    "print(expand(expr_2.subs({x: y + 5})))"
   ]
  }
 ],
 "metadata": {
  "kernelspec": {
   "display_name": "base",
   "language": "python",
   "name": "python3"
  },
  "language_info": {
   "codemirror_mode": {
    "name": "ipython",
    "version": 3
   },
   "file_extension": ".py",
   "mimetype": "text/x-python",
   "name": "python",
   "nbconvert_exporter": "python",
   "pygments_lexer": "ipython3",
   "version": "3.11.5"
  }
 },
 "nbformat": 4,
 "nbformat_minor": 2
}
