{
 "cells": [
  {
   "cell_type": "code",
   "execution_count": 2,
   "metadata": {},
   "outputs": [
    {
     "name": "stdout",
     "output_type": "stream",
     "text": [
      "scipy.polyval result: 2\n",
      "sympy result: 2\n"
     ]
    }
   ],
   "source": [
    "x_value = 3\n",
    "\n",
    "\n",
    "# scipyを使った多項式の計算\n",
    "import numpy as np\n",
    "# from scipy import polyval, polyfit\n",
    "coefficients = [1, -3, 2]  # 1*x^2 - 3*x + 2\n",
    "# result = polyval(coefficients, x_value)\n",
    "result = np.polyval(coefficients, x_value)\n",
    "print(f'scipy.polyval result: {result}')\n",
    "\n",
    "\n",
    "# sympyを使った多項式の計算\n",
    "from sympy import symbols, Poly\n",
    "\n",
    "x = symbols('x')\n",
    "polynomial = Poly(1*x**2 - 3*x + 2, x)\n",
    "\n",
    "result_symbolic = polynomial.subs(x, x_value)\n",
    "print(f'sympy result: {result_symbolic}')"
   ]
  }
 ],
 "metadata": {
  "kernelspec": {
   "display_name": "base",
   "language": "python",
   "name": "python3"
  },
  "language_info": {
   "codemirror_mode": {
    "name": "ipython",
    "version": 3
   },
   "file_extension": ".py",
   "mimetype": "text/x-python",
   "name": "python",
   "nbconvert_exporter": "python",
   "pygments_lexer": "ipython3",
   "version": "3.11.5"
  }
 },
 "nbformat": 4,
 "nbformat_minor": 2
}
